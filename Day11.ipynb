{
 "cells": [
  {
   "cell_type": "code",
   "execution_count": null,
   "id": "31f37ff5",
   "metadata": {},
   "outputs": [],
   "source": [
    "# Problem of the Day 11\n",
    "\n",
    "\"\"\"\n",
    "Given a string S, find the longest palindromic substring in S.\n",
    "S[i..j] where 0 <= i <= j <= len(S).\n",
    "A palindrome string is a string that reads the same backward.\n",
    "More formally, S is a palindrome if reverse(S) = S.\n",
    "In case of conflict, return the substring which occurs first (with the least starting index).\n",
    "\"\"\"\n",
    "\n",
    "def longest_palindromic_substring(input_string):\n",
    "    string_length = len(input_string)\n",
    "    start_of_longest = 0\n",
    "    max_length = 1\n",
    "\n",
    "    # Create a table to store palindromic substring information\n",
    "    dp = [[False] * string_length for _ in range(string_length)]\n",
    "\n",
    "    # All substrings of length 1 are palindromic\n",
    "    for i in range(string_length):\n",
    "        dp[i][i] = True\n",
    "\n",
    "    # Check for substrings of length 2\n",
    "    for i in range(string_length - 1):\n",
    "        if input_string[i] == input_string[i + 1]:\n",
    "            dp[i][i + 1] = True\n",
    "            start_of_longest = i\n",
    "            max_length = 2\n",
    "\n",
    "    # Check for substrings of length greater than 2\n",
    "    for length in range(3, string_length + 1):\n",
    "        for i in range(string_length - length + 1):\n",
    "            j = i + length - 1\n",
    "            if dp[i + 1][j - 1] and input_string[i] == input_string[j]:\n",
    "                dp[i][j] = True\n",
    "                if length > max_length:\n",
    "                    start_of_longest = i\n",
    "                    max_length = length\n",
    "\n",
    "    return input_string[start_of_longest:start_of_longest + max_length]\n",
    "\n",
    "# Example input\n",
    "input_string = \"aaabbaa\"\n",
    "result = longest_palindromic_substring(input_string)\n",
    "print(\"Longest palindromic substring:\", result)\n"
   ]
  }
 ],
 "metadata": {
  "kernelspec": {
   "display_name": "Python 3 (ipykernel)",
   "language": "python",
   "name": "python3"
  },
  "language_info": {
   "codemirror_mode": {
    "name": "ipython",
    "version": 3
   },
   "file_extension": ".py",
   "mimetype": "text/x-python",
   "name": "python",
   "nbconvert_exporter": "python",
   "pygments_lexer": "ipython3",
   "version": "3.9.13"
  }
 },
 "nbformat": 4,
 "nbformat_minor": 5
}
