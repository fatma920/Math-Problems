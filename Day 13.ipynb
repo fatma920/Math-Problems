{
 "cells": [
  {
   "cell_type": "code",
   "execution_count": 4,
   "id": "16ac4b6a",
   "metadata": {},
   "outputs": [
    {
     "name": "stdout",
     "output_type": "stream",
     "text": [
      "Distinct subset sums: {0, 1, 2, 3, 4, 5, 6, 7, 8, 9, 10, 11, 12, 13, 14, 15}\n"
     ]
    }
   ],
   "source": [
    "# Subset Sums\n",
    "\n",
    "\"\"\"\n",
    "Given a set of integers, find all distinct numbers that can\n",
    "be generated from the subsets of the given set.\n",
    "\"\"\"\n",
    "\n",
    "def generate_subsets(input_set):\n",
    "    n = len(input_set)\n",
    "    all_subsets = []\n",
    "\n",
    "    # Generate all possible subsets using bitwise manipulation\n",
    "    for i in range(1 << n):\n",
    "        subset = []\n",
    "        for j in range(n):\n",
    "            if i & (1 << j):\n",
    "                subset.append(input_set[j])\n",
    "        all_subsets.append(subset)\n",
    "\n",
    "    return all_subsets\n",
    "\n",
    "def find_distinct_subset_sums(input_set):\n",
    "    subsets = generate_subsets(input_set)\n",
    "    distinct_sums = set()\n",
    "\n",
    "    for subset in subsets:\n",
    "        subset_sum = sum(subset)\n",
    "        distinct_sums.add(subset_sum)\n",
    "\n",
    "    return distinct_sums\n",
    "\n",
    "# Example input\n",
    "input_set = [1, 2, 3, 4, 5]\n",
    "result = find_distinct_subset_sums(input_set)\n",
    "print(\"Distinct subset sums:\", result)\n"
   ]
  },
  {
   "cell_type": "code",
   "execution_count": null,
   "id": "dc05e289",
   "metadata": {},
   "outputs": [],
   "source": []
  }
 ],
 "metadata": {
  "kernelspec": {
   "display_name": "Python 3 (ipykernel)",
   "language": "python",
   "name": "python3"
  },
  "language_info": {
   "codemirror_mode": {
    "name": "ipython",
    "version": 3
   },
   "file_extension": ".py",
   "mimetype": "text/x-python",
   "name": "python",
   "nbconvert_exporter": "python",
   "pygments_lexer": "ipython3",
   "version": "3.9.13"
  }
 },
 "nbformat": 4,
 "nbformat_minor": 5
}
